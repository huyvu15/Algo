{
 "cells": [
  {
   "cell_type": "markdown",
   "id": "416f289c",
   "metadata": {},
   "source": [
    "# Bài 3: Viết thuật toán cho phương pháp dây cung (tự xác định input và output)\n",
    "\n",
    "Nguồn: copy tạm chatGPT\n"
   ]
  },
  {
   "cell_type": "code",
   "execution_count": 1,
   "id": "c074aed7",
   "metadata": {},
   "outputs": [
    {
     "name": "stdout",
     "output_type": "stream",
     "text": [
      "Nghiệm của phương trình là: 2.094552485185284\n"
     ]
    }
   ],
   "source": [
    "  def secant_method(f, x0, x1, epsilon, N=1000):\n",
    "    k = 0\n",
    "    while k < N:\n",
    "        if abs(f(x1)) < epsilon:\n",
    "            return x1\n",
    "        if abs(f(x0) - f(x1)) < epsilon:\n",
    "            return x1\n",
    "        x2 = x1 - f(x1) * (x1 - x0) / (f(x1) - f(x0))\n",
    "        if abs(f(x2)) < epsilon:\n",
    "            return x2\n",
    "        x0 = x1\n",
    "        x1 = x2\n",
    "        k += 1\n",
    "    return x2\n",
    "\n",
    "# Ví dụ, để tìm nghiệm của phương trình f(x) = x^3 - 2x - 5 = 0 \n",
    "#bằng phương pháp dây cung với giá trị ban đầu x0 = 1 và x1 = 2 và sai số epsilon = 0.0001, \n",
    "#ta có thể sử dụng code như sau:\n",
    "\n",
    "def f(x):\n",
    "    return x**3 - 2*x - 5\n",
    "\n",
    "x0 = 1\n",
    "x1 = 2\n",
    "epsilon = 0.0001\n",
    "\n",
    "solution = secant_method(f, x0, x1, epsilon)\n",
    "print(\"Nghiệm của phương trình là:\", solution)\n"
   ]
  }
 ],
 "metadata": {
  "kernelspec": {
   "display_name": "Python 3 (ipykernel)",
   "language": "python",
   "name": "python3"
  },
  "language_info": {
   "codemirror_mode": {
    "name": "ipython",
    "version": 3
   },
   "file_extension": ".py",
   "mimetype": "text/x-python",
   "name": "python",
   "nbconvert_exporter": "python",
   "pygments_lexer": "ipython3",
   "version": "3.9.13"
  }
 },
 "nbformat": 4,
 "nbformat_minor": 5
}
