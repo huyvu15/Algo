{
 "cells": [
  {
   "cell_type": "markdown",
   "id": "c963d961",
   "metadata": {},
   "source": [
    "# Bài 5 Xây dựng thuật toán tìm min, max của hàm cho trước với sai số cho trước\n",
    "\n",
    "> Sử dụng thuật toán Gradient Desent\n"
   ]
  },
  {
   "cell_type": "code",
   "execution_count": 1,
   "id": "0625b868",
   "metadata": {},
   "outputs": [
    {
     "name": "stdout",
     "output_type": "stream",
     "text": [
      "Giá trị nhỏ nhất của hàm là: 9.313225746154785e-10\n"
     ]
    }
   ],
   "source": [
    "def f(x):\n",
    "    return x**2\n",
    "\n",
    "a = 0\n",
    "b = 1\n",
    "epsilon = 0.0001\n",
    "\n",
    "k = (a+b)/2\n",
    "fk = f(k)\n",
    "while abs(b-a) > epsilon:\n",
    "    fl = f(k-epsilon)\n",
    "    fr = f(k+epsilon)\n",
    "    if fl < fk:\n",
    "        b = k\n",
    "        k = (a+b)/2\n",
    "        fk = f(k)\n",
    "    elif fr < fk:\n",
    "        a = k\n",
    "        k = (a+b)/2a\n",
    "        fk = f(k)\n",
    "    else:\n",
    "        break\n",
    "\n",
    "print(\"Giá trị nhỏ nhất của hàm là:\", fk)\n"
   ]
  },
  {
   "cell_type": "code",
   "execution_count": 1,
   "id": "0f92d3a3",
   "metadata": {},
   "outputs": [
    {
     "name": "stdout",
     "output_type": "stream",
     "text": [
      "Làm tròn đến chữ số thứ  : 5\n",
      " Nhập cận dưới là: 0\n",
      " Nhập cận trên là : 1\n",
      "Enter function y = f(x)\n",
      "y = x^2\n",
      "1.0\n",
      "0.0\n"
     ]
    }
   ],
   "source": [
    "from sympy import *\n",
    "from math import log\n",
    "\n",
    "ETA = 1e-15\n",
    "EPSILON = 1e-6\n",
    "def f_(f, x,eps=EPSILON):\n",
    "    return (f(x+eps)-f(x-eps))/(2*eps)\n",
    "\n",
    "def gradient_descent(f, a, b):\n",
    "    def fixeta(dfx0,x0):\n",
    "        eta = ETA\n",
    "        while sgn*f_(f,x0+sgn*eta*dfx0)>=0 and eta<1:\n",
    "            eta *= 2\n",
    "        while sgn*f_(f,x0+sgn*eta*dfx0)<=0:\n",
    "            eta /= 2\n",
    "        return eta\n",
    "    sgn, count = 1 if f(a+EPSILON) > f(a) else -1, 0\n",
    "    xr = [a]\n",
    "    x0 = a + 0.5*EPSILON\n",
    "    eta = ETA\n",
    "    while x0 < b:\n",
    "        dx = f_(f, x0)\n",
    "        while abs(dx) > 0.001*EPSILON:\n",
    "            dx = f_(f, x0)\n",
    "            eta = fixeta(dx,x0)\n",
    "            x0 += sgn*eta*dx\n",
    "            count += 1\n",
    "            if x0 > b:\n",
    "                break\n",
    "        sgn = -sgn\n",
    "        if x0 > a and x0 < b:\n",
    "            xr.append(x0)\n",
    "        x0 += 0.5*EPSILON\n",
    "    xr.append(b)\n",
    "    return xr\n",
    "\n",
    "def findMax(f, a, b):\n",
    "    if a>b:\n",
    "        a,b = b,a\n",
    "    lastPoints = gradient_descent(f, a, b)\n",
    "    result = max(map(f, lastPoints))\n",
    "    return result\n",
    "def findMin(f, a, b):\n",
    "    if a>b:\n",
    "        a,b = b,a\n",
    "    lastPoints = gradient_descent(f, a, b)\n",
    "    result = min(map(f, lastPoints))\n",
    "    return result\n",
    "\n",
    "x = symbols(\"x\")\n",
    "e = int(input(\"Làm tròn đến chữ số thứ  : \"))\n",
    "\n",
    "while True:\n",
    "    a = float(input(\" Nhập cận dưới là: \"))\n",
    "    b = float(input(\" Nhập cận trên là : \"))\n",
    "    if a < b:\n",
    "        break\n",
    "\n",
    "hamso = input(\"Enter function y = f(x)\\ny = \")\n",
    "f = lambdify(x, sympify(hamso), \"math\")\n",
    "\n",
    "    \n",
    "print(findMax(f, a,b))\n",
    "print(findMin(f, a,b))\n",
    "print(gradient_desent(f, a, b))\n"
   ]
  }
 ],
 "metadata": {
  "kernelspec": {
   "display_name": "Python 3 (ipykernel)",
   "language": "python",
   "name": "python3"
  },
  "language_info": {
   "codemirror_mode": {
    "name": "ipython",
    "version": 3
   },
   "file_extension": ".py",
   "mimetype": "text/x-python",
   "name": "python",
   "nbconvert_exporter": "python",
   "pygments_lexer": "ipython3",
   "version": "3.9.13"
  }
 },
 "nbformat": 4,
 "nbformat_minor": 5
}
