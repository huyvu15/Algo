{
 "cells": [
  {
   "attachments": {},
   "cell_type": "markdown",
   "id": "c963d961",
   "metadata": {},
   "source": [
    "# Bài 5 Xây dựng thuật toán tìm min, max của hàm cho trước với sai số cho trước\n"
   ]
  },
  {
   "cell_type": "code",
   "execution_count": 1,
   "id": "0625b868",
   "metadata": {},
   "outputs": [
    {
     "name": "stdout",
     "output_type": "stream",
     "text": [
      "Giá trị nhỏ nhất của hàm là: 9.313225746154785e-10\n"
     ]
    }
   ],
   "source": [
    "def f(x):\n",
    "    return x**2\n",
    "\n",
    "a = 0\n",
    "b = 1\n",
    "epsilon = 0.0001\n",
    "\n",
    "k = (a+b)/2\n",
    "fk = f(k)\n",
    "while abs(b-a) > epsilon:\n",
    "    fl = f(k-epsilon)\n",
    "    fr = f(k+epsilon)\n",
    "    if fl < fk:\n",
    "        b = k\n",
    "        k = (a+b)/2\n",
    "        fk = f(k)\n",
    "    elif fr < fk:\n",
    "        a = k\n",
    "        k = (a+b)/2\n",
    "        fk = f(k)\n",
    "    else:\n",
    "        break\n",
    "\n",
    "print(\"Giá trị nhỏ nhất của hàm là:\", fk)\n"
   ]
  }
 ],
 "metadata": {
  "kernelspec": {
   "display_name": "Python 3 (ipykernel)",
   "language": "python",
   "name": "python3"
  },
  "language_info": {
   "codemirror_mode": {
    "name": "ipython",
    "version": 3
   },
   "file_extension": ".py",
   "mimetype": "text/x-python",
   "name": "python",
   "nbconvert_exporter": "python",
   "pygments_lexer": "ipython3",
   "version": "3.9.13"
  }
 },
 "nbformat": 4,
 "nbformat_minor": 5
}
