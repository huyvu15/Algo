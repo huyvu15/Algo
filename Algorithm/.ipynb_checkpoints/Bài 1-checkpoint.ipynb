{
 "cells": [
  {
   "attachments": {},
   "cell_type": "markdown",
   "id": "afaff898",
   "metadata": {},
   "source": [
    "# Bài 1: Xây dựng thuật toán tính số e và $\\pi$ với sai số $\\varepsilon$ cho trước. Viết code chạy thử theo thuật toán bạn đã xây dựng.\n",
    "\n",
    "- Theo công thức :Số e là tổng của chuỗi vô hạn trong đó n! là giai thừa của n.\n",
    "> $ e = \\displaystyle\\sum_{n=0}^{\\infty} \\dfrac{1}{n!} = 1 + \\dfrac{1}{1!} +  \\dfrac{1}{2!} + \\dfrac{1}{3!} + \\dfrac{1}{4!} +  $   ...\n",
    "\n",
    "Ta cần tìm số nguyên dương n sao cho\n",
    "$|e-e_n| < \\varepsilon $, trong đó $e_n$ là tổng giá trị của n số hạng đầu tiên của công thức trên.\n",
    "\n",
    "\n",
    "- Tương tự ta cũng có công thức tính số pi như sau:\n",
    "![](http://www.seriesmathstudy.com/toantructuyen/hangsopi_files/image006.jpg)\n",
    "> $\\dfrac{\\pi}{4} =1 - \\dfrac{1}{3} + \\dfrac{1}{5} - \\dfrac{1}{7} + ... + \\dfrac{(-1)^n}{2n+1}$\n",
    "\n",
    "Cần tìm số nguyên n thỏa mãn\n",
    "$|\\pi -\\pi{_n}| < \\varepsilon$\n",
    "\n"
   ]
  },
  {
   "cell_type": "code",
   "execution_count": 3,
   "id": "db7bdcd2",
   "metadata": {},
   "outputs": [
    {
     "name": "stdout",
     "output_type": "stream",
     "text": [
      "e =  2.7182818011463845\n",
      "math.e =  2.718281828459045\n"
     ]
    }
   ],
   "source": [
    "import math\n",
    "\n",
    "def calc_e(epsilon):\n",
    "    e = 1 # sum = 1\n",
    "    term = 1\n",
    "    n = 1\n",
    "    while abs(term) > epsilon:\n",
    "        term /= n\n",
    "        e += term\n",
    "        n += 1\n",
    "    return e\n",
    "\n",
    "epsilon = 1e-6 \n",
    "e = calc_e(epsilon)\n",
    "print(\"e = \", e)\n",
    "print(\"math.e = \", math.e)\n",
    "\n",
    "\n"
   ]
  },
  {
   "cell_type": "code",
   "execution_count": null,
   "id": "58c41c64",
   "metadata": {},
   "outputs": [],
   "source": [
    "import math\n",
    "\n",
    "def calc_pi(epsilon):\n",
    "    pi = 0\n",
    "    term = 1\n",
    "    n = 0\n",
    "    while abs(term) > epsilon:\n",
    "        pi += term\n",
    "        n += 1\n",
    "        term = (-1)**n/ (2*n + 1)\n",
    "\n",
    "    return 4 * pi\n",
    "\n",
    "epsilon = 1e-6\n",
    "pi = calc_pi(epsilon)\n",
    "print(\"pi = \", pi)\n",
    "print(\"math.pi = \", math.pi)\n"
   ]
  },
  {
   "cell_type": "code",
   "execution_count": null,
   "id": "e20ff63f",
   "metadata": {},
   "outputs": [],
   "source": []
  }
 ],
 "metadata": {
  "kernelspec": {
   "display_name": "Python 3 (ipykernel)",
   "language": "python",
   "name": "python3"
  },
  "language_info": {
   "codemirror_mode": {
    "name": "ipython",
    "version": 3
   },
   "file_extension": ".py",
   "mimetype": "text/x-python",
   "name": "python",
   "nbconvert_exporter": "python",
   "pygments_lexer": "ipython3",
   "version": "3.9.13"
  }
 },
 "nbformat": 4,
 "nbformat_minor": 5
}
