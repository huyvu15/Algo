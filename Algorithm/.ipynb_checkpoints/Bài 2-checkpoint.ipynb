{
 "cells": [
  {
   "attachments": {},
   "cell_type": "markdown",
   "id": "7003c531",
   "metadata": {},
   "source": [
    "# Bài 2: Tìm thuật toán tính $\\sqrt[n]{a} $ trong đó n là số tự nhiên, a là số thực cho trước, sai số cho trước.\n",
    "\n",
    "- Sử dụng phương pháp chia đôi đã code trước đó\n",
    "\n",
    "> Tính $\\sqrt[n]{a} $ ta quy về bài toán tìm nghiệm của phương trình $x^n - a = 0$ với n, a là các số cho trước\n"
   ]
  },
  {
   "cell_type": "code",
   "execution_count": 19,
   "id": "01ba6edb",
   "metadata": {},
   "outputs": [
    {
     "name": "stdout",
     "output_type": "stream",
     "text": [
      "Tìm nghiệm của hàm số f(x) = x^n -a trên khoảng: \n",
      "Nhap vao khoang phân ly (a, b): 0 2\n",
      "Nhập a: 5\n",
      "Nhập n: 100\n",
      "Nhap vao sai so: 0.0001\n",
      "số lần lặp là:  15\n",
      "Cách thuật toán chạy:\n",
      "lần 0: a = 0, b = 2, c = 1.0, f(c) =  -4.0\n",
      "lần 1: a = 1.0, b = 2, c = 1.5, f(c) =  432.8938903808594\n",
      "lần 2: a = 1.0, b = 1.5, c = 1.25, f(c) =  23.421709430404007\n",
      "lần 3: a = 1.0, b = 1.25, c = 1.125, f(c) =  0.8517779306910427\n",
      "lần 4: a = 1.0, b = 1.125, c = 1.0625, f(c) =  -2.5172437671843766\n",
      "lần 5: a = 1.0625, b = 1.125, c = 1.09375, f(c) =  -1.1649503535861059\n",
      "lần 6: a = 1.09375, b = 1.125, c = 1.109375, f(c) =  -0.255662008657632\n",
      "lần 7: a = 1.109375, b = 1.125, c = 1.1171875, f(c) =  0.27097573886192095\n",
      "lần 8: a = 1.109375, b = 1.1171875, c = 1.11328125, f(c) =  0.001190763780432036\n",
      "lần 9: a = 1.109375, b = 1.11328125, c = 1.111328125, f(c) =  -0.1288154758259452\n",
      "lần 10: a = 1.111328125, b = 1.11328125, c = 1.1123046875, f(c) =  -0.06421184308091021\n",
      "lần 11: a = 1.1123046875, b = 1.11328125, c = 1.11279296875, f(c) =  -0.03161098210749369\n",
      "lần 12: a = 1.11279296875, b = 1.11328125, c = 1.113037109375, f(c) =  -0.015235291443606691\n",
      "lần 13: a = 1.113037109375, b = 1.11328125, c = 1.1131591796875, f(c) =  -0.007028568380474276\n",
      "lần 14: a = 1.1131591796875, b = 1.11328125, c = 1.11322021484375, f(c) =  -0.0029204795608945844\n",
      "Nghiệm của phương trình là:x =  1.11322021484375\n"
     ]
    }
   ],
   "source": [
    "# bisection method\n",
    "\n",
    "import math\n",
    "\n",
    "print(\"Tìm nghiệm của hàm số f(x) = x^n -a trên khoảng: \")\n",
    "print(\"Nhap vao khoang phân ly (a, b): \", end = \"\")\n",
    "a, b = map(int, input().split())\n",
    "\n",
    "k = float(input(\"Nhập a: \"))\n",
    "n = int(input(\"Nhập n: \"))\n",
    "\n",
    "epsilon = float(input(\"Nhap vao sai so: \"))\n",
    "\n",
    "n = float(math.ceil(math.log((b-a)*(epsilon**(-1)), 2)))\n",
    "\n",
    "print(\"số lần lặp: \", int(n))\n",
    "\n",
    "def f(x,n,k):\n",
    "    return x**n-k\n",
    "\n",
    "def test(a, b):\n",
    "    i = 0\n",
    "    while abs(b - a) >= epsilon:\n",
    "        c = (a+b)/2\n",
    "        if f(a, n, k)*f(c, n, k) < 0:\n",
    "            print(f\"lần {i}: a = {a}, b = {b}, c = {c}, f(c) = \", f(c, n, k))\n",
    "            b = c\n",
    "        else:\n",
    "            print(f\"lần {i}: a = {a}, b = {b}, c = {c}, f(c) = \", f(c, n, k))\n",
    "            a = c\n",
    "        i +=1\n",
    "    return c   \n",
    "print(\"Cách thuật toán chạy:\")\n",
    "print(\"Nghiệm của phương trình là:x = \",test(a, b))\n",
    "\n",
    "\n",
    "\n"
   ]
  }
 ],
 "metadata": {
  "kernelspec": {
   "display_name": "Python 3 (ipykernel)",
   "language": "python",
   "name": "python3"
  },
  "language_info": {
   "codemirror_mode": {
    "name": "ipython",
    "version": 3
   },
   "file_extension": ".py",
   "mimetype": "text/x-python",
   "name": "python",
   "nbconvert_exporter": "python",
   "pygments_lexer": "ipython3",
   "version": "3.9.13"
  }
 },
 "nbformat": 4,
 "nbformat_minor": 5
}
