{
 "cells": [
  {
   "cell_type": "markdown",
   "id": "d925bb1b",
   "metadata": {},
   "source": [
    "# Bài 6: Viết thuật toán tính đạo hàm của một hàm cho trước\n",
    "\n",
    "Trong toán học đạo hàm là 1 đại lượng mô tả sự biến thiên của 1 hàm số nào đó tại 1 điểm\n",
    "\n",
    "Dựa theo công thức tiếp tuyến:\n",
    "> $ y = f'(x_0)(x-x_0) + f(x_0) $\n",
    "\n",
    "Từ đó suy ra:\n",
    "> $f'(x_0) = \\dfrac{y-f(x_0)}{x-x_0} $\n",
    "\n",
    "hay\n",
    "\n",
    "> $f'(x_0) = \\displaystyle\\lim_{\\triangle x \\rightarrow 0}\\dfrac{y-f(x_0)}{x-x_0} $\n",
    "> Trong đó:\n",
    "> - $\\triangle x $ là số gia của đối số tại $x_0$\n",
    "> - $\\triangle y $ là số gia tương ứng của hàm số\n",
    "\n",
    "Định lý: Nếu hàm số y = f(x) có đạo hàm tại x0 thì nó liên tục tại x0.\n",
    "\n",
    "Lưu ý: Nếu hàm số y = f(x) gián đoạn tại x0 thì nó không có đạo hàm tại điểm x0. Tuy nhiên, một hàm số liên tục tại một điểm cũng có thể không có đạo hàm tại điểm đó."
   ]
  },
  {
   "cell_type": "code",
   "execution_count": null,
   "id": "687c8db2",
   "metadata": {},
   "outputs": [],
   "source": [
    "eps = float(input())\n",
    "def Derivate(f, x):\n",
    "    return (f(x + eps) - f(x)) / eps\n",
    "\n",
    "def f(x):\n",
    "    return x ** 2 \n",
    "\n",
    "# Tính đạo hàm của hàm số f(x) tại điểm x = 2\n",
    "df = Derivate(f, 2)\n",
    "print(df)\n"
   ]
  },
  {
   "cell_type": "code",
   "execution_count": null,
   "id": "f48ca66c",
   "metadata": {},
   "outputs": [],
   "source": []
  }
 ],
 "metadata": {
  "kernelspec": {
   "display_name": "Python 3 (ipykernel)",
   "language": "python",
   "name": "python3"
  },
  "language_info": {
   "codemirror_mode": {
    "name": "ipython",
    "version": 3
   },
   "file_extension": ".py",
   "mimetype": "text/x-python",
   "name": "python",
   "nbconvert_exporter": "python",
   "pygments_lexer": "ipython3",
   "version": "3.9.13"
  }
 },
 "nbformat": 4,
 "nbformat_minor": 5
}
