{
 "cells": [
  {
   "cell_type": "markdown",
   "id": "7b498b86",
   "metadata": {},
   "source": [
    "# note kiến thức\n",
    "\n",
    "|nghiệm| < 1 + $\\dfrac{max{|a_0|, |a_1|,...|a_{n-1}}}{|a_n|}$\n",
    "\n"
   ]
  }
 ],
 "metadata": {
  "kernelspec": {
   "display_name": "Python 3 (ipykernel)",
   "language": "python",
   "name": "python3"
  },
  "language_info": {
   "codemirror_mode": {
    "name": "ipython",
    "version": 3
   },
   "file_extension": ".py",
   "mimetype": "text/x-python",
   "name": "python",
   "nbconvert_exporter": "python",
   "pygments_lexer": "ipython3",
   "version": "3.9.13"
  }
 },
 "nbformat": 4,
 "nbformat_minor": 5
}
